{
 "cells": [
  {
   "cell_type": "code",
   "execution_count": 3,
   "metadata": {},
   "outputs": [],
   "source": [
    "import numpy as np\n",
    "import matplotlib.pyplot as plt\n",
    "#from mpl_toolkits.basemap import Basemap as Basemap\n",
    "#from matplotlib.colors import rgb2hex, Normalize\n",
    "#from matplotlib.patches import Polygon\n",
    "#from matplotlib.colorbar import ColorbarBase\n",
    "#import sys\n",
    "#sys.path.append('./python/')\n",
    "#import stateData as sd\n",
    "#import tools"
   ]
  },
  {
   "cell_type": "code",
   "execution_count": null,
   "metadata": {},
   "outputs": [],
   "source": []
  },
  {
   "cell_type": "code",
   "execution_count": null,
   "metadata": {},
   "outputs": [],
   "source": [
    "###############################################################################\n",
    "usMap      = tools.USmap()\n",
    "popDensity = sd.popDensity\n",
    "\n",
    "# choose a color for each state based on population density\n",
    "colors = {}\n",
    "cmap   = plt.cm.hot_r\n",
    "vmin   = 0\n",
    "vmax   = 450\n",
    "norm   = Normalize(vmin=vmin, vmax=vmax)\n",
    "for stateName in usMap.stateNames:\n",
    "    if stateName in popDensity.keys():\n",
    "        pop = popDensity[stateName]\n",
    "        # calling colormap with value between 0 and 1 returns\n",
    "        # rgba value.  Invert color range (hot colors are high\n",
    "        # population), take sqrt root to spread out colors more.\n",
    "        colors[stateName] = cmap(np.sqrt((pop-vmin)/(vmax-vmin)))[:3]\n",
    "usMap.ax_c = usMap.fig.add_axes([0.9, 0.1, 0.03, 0.8])\n",
    "usMap.cb   = ColorbarBase(usMap.ax_c,cmap=cmap,norm=norm,orientation='vertical',\n",
    "                                  label=r'[population per $\\mathregular{km^2}$]')\n",
    "\n",
    "usMap.colorStates(colors)\n",
    "\n",
    "usMap.ax.set_title('United States Population Density by State')\n",
    "\n",
    "plt.savefig('./plots/votingPower.png', bbox_inches='tight', dpi=600)\n"
   ]
  },
  {
   "cell_type": "code",
   "execution_count": null,
   "metadata": {},
   "outputs": [],
   "source": []
  },
  {
   "cell_type": "code",
   "execution_count": null,
   "metadata": {},
   "outputs": [],
   "source": []
  }
 ],
 "metadata": {
  "kernelspec": {
   "display_name": "Python 3",
   "language": "python",
   "name": "python3"
  },
  "language_info": {
   "codemirror_mode": {
    "name": "ipython",
    "version": 3
   },
   "file_extension": ".py",
   "mimetype": "text/x-python",
   "name": "python",
   "nbconvert_exporter": "python",
   "pygments_lexer": "ipython3",
   "version": "3.7.4"
  }
 },
 "nbformat": 4,
 "nbformat_minor": 2
}
